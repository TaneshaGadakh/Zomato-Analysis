{
 "cells": [
  {
   "cell_type": "code",
   "execution_count": 1,
   "id": "f78b211d",
   "metadata": {},
   "outputs": [],
   "source": [
    "import pandas as pd\n",
    "import matplotlib.pyplot as plt\n",
    "%matplotlib inline\n",
    "import seaborn as sns"
   ]
  },
  {
   "cell_type": "code",
   "execution_count": 2,
   "id": "cd69b1ec",
   "metadata": {},
   "outputs": [],
   "source": [
    "main=pd.read_csv('Main.csv', encoding='unicode_escape')"
   ]
  },
  {
   "cell_type": "code",
   "execution_count": 3,
   "id": "32b829e4",
   "metadata": {},
   "outputs": [],
   "source": [
    "country=pd.read_csv('Country.csv', encoding='unicode_escape')"
   ]
  },
  {
   "cell_type": "code",
   "execution_count": 4,
   "id": "8b5e028e",
   "metadata": {},
   "outputs": [],
   "source": [
    "currency=pd.read_csv('Currency.csv', encoding='unicode_escape')"
   ]
  },
  {
   "cell_type": "code",
   "execution_count": 5,
   "id": "b2be0fcd",
   "metadata": {},
   "outputs": [],
   "source": [
    "country.rename(columns={'CountryID':'CountryCode'}, inplace=True)"
   ]
  },
  {
   "cell_type": "code",
   "execution_count": 6,
   "id": "aa8ec6ff",
   "metadata": {},
   "outputs": [],
   "source": [
    "df1=pd.merge(main, country, on='CountryCode')"
   ]
  },
  {
   "cell_type": "code",
   "execution_count": 7,
   "id": "0f841544",
   "metadata": {},
   "outputs": [],
   "source": [
    "df=pd.merge(df1, currency, on='Currency')"
   ]
  },
  {
   "cell_type": "code",
   "execution_count": 8,
   "id": "4b479d68",
   "metadata": {},
   "outputs": [
    {
     "data": {
      "text/html": [
       "<div>\n",
       "<style scoped>\n",
       "    .dataframe tbody tr th:only-of-type {\n",
       "        vertical-align: middle;\n",
       "    }\n",
       "\n",
       "    .dataframe tbody tr th {\n",
       "        vertical-align: top;\n",
       "    }\n",
       "\n",
       "    .dataframe thead th {\n",
       "        text-align: right;\n",
       "    }\n",
       "</style>\n",
       "<table border=\"1\" class=\"dataframe\">\n",
       "  <thead>\n",
       "    <tr style=\"text-align: right;\">\n",
       "      <th></th>\n",
       "      <th>RestaurantID</th>\n",
       "      <th>RestaurantName</th>\n",
       "      <th>CountryCode</th>\n",
       "      <th>Country</th>\n",
       "      <th>City</th>\n",
       "      <th>Address</th>\n",
       "      <th>Locality</th>\n",
       "      <th>Longitude</th>\n",
       "      <th>Latitude</th>\n",
       "      <th>Cuisines</th>\n",
       "      <th>...</th>\n",
       "      <th>Votes</th>\n",
       "      <th>Average_Cost_for_two</th>\n",
       "      <th>In_Dollars</th>\n",
       "      <th>Rating</th>\n",
       "      <th>Year_Opening</th>\n",
       "      <th>Month_Opening</th>\n",
       "      <th>Day_Opening</th>\n",
       "      <th>Date</th>\n",
       "      <th>Countryname</th>\n",
       "      <th>USD_Rate</th>\n",
       "    </tr>\n",
       "  </thead>\n",
       "  <tbody>\n",
       "    <tr>\n",
       "      <th>0</th>\n",
       "      <td>18490967</td>\n",
       "      <td>Lets Burrrp</td>\n",
       "      <td>1</td>\n",
       "      <td>India</td>\n",
       "      <td>Noida</td>\n",
       "      <td>Bs-10, Sector 70, Near Sector 70, Noida</td>\n",
       "      <td>Sector 71</td>\n",
       "      <td>0.000000</td>\n",
       "      <td>0.000000</td>\n",
       "      <td>Chinese, North Indian</td>\n",
       "      <td>...</td>\n",
       "      <td>0</td>\n",
       "      <td>400</td>\n",
       "      <td>4.8</td>\n",
       "      <td>1.0</td>\n",
       "      <td>2010</td>\n",
       "      <td>3</td>\n",
       "      <td>11</td>\n",
       "      <td>11-03-2010</td>\n",
       "      <td>India</td>\n",
       "      <td>0.012</td>\n",
       "    </tr>\n",
       "    <tr>\n",
       "      <th>1</th>\n",
       "      <td>3100446</td>\n",
       "      <td>45</td>\n",
       "      <td>1</td>\n",
       "      <td>India</td>\n",
       "      <td>Mangalore</td>\n",
       "      <td>Ground Floor, Trinity Commercial Complex, Near...</td>\n",
       "      <td>Attavar</td>\n",
       "      <td>0.000000</td>\n",
       "      <td>0.000000</td>\n",
       "      <td>Cafe</td>\n",
       "      <td>...</td>\n",
       "      <td>209</td>\n",
       "      <td>600</td>\n",
       "      <td>7.2</td>\n",
       "      <td>3.6</td>\n",
       "      <td>2011</td>\n",
       "      <td>7</td>\n",
       "      <td>4</td>\n",
       "      <td>04-07-2011</td>\n",
       "      <td>India</td>\n",
       "      <td>0.012</td>\n",
       "    </tr>\n",
       "    <tr>\n",
       "      <th>2</th>\n",
       "      <td>18378803</td>\n",
       "      <td>Dilliwaala6</td>\n",
       "      <td>1</td>\n",
       "      <td>India</td>\n",
       "      <td>Puducherry</td>\n",
       "      <td>6, Rue De La Marine, White Town, Puducherry</td>\n",
       "      <td>White Town</td>\n",
       "      <td>79.834810</td>\n",
       "      <td>11.936532</td>\n",
       "      <td>North Indian</td>\n",
       "      <td>...</td>\n",
       "      <td>124</td>\n",
       "      <td>800</td>\n",
       "      <td>9.6</td>\n",
       "      <td>3.7</td>\n",
       "      <td>2018</td>\n",
       "      <td>8</td>\n",
       "      <td>27</td>\n",
       "      <td>27-08-2018</td>\n",
       "      <td>India</td>\n",
       "      <td>0.012</td>\n",
       "    </tr>\n",
       "    <tr>\n",
       "      <th>3</th>\n",
       "      <td>18489842</td>\n",
       "      <td>hashtag</td>\n",
       "      <td>1</td>\n",
       "      <td>India</td>\n",
       "      <td>New Delhi</td>\n",
       "      <td>10921, Mehrauli Bus Stand, Mehrauli, New Delhi</td>\n",
       "      <td>Mehrauli</td>\n",
       "      <td>77.181865</td>\n",
       "      <td>28.522205</td>\n",
       "      <td>Cafe</td>\n",
       "      <td>...</td>\n",
       "      <td>0</td>\n",
       "      <td>500</td>\n",
       "      <td>6.0</td>\n",
       "      <td>1.0</td>\n",
       "      <td>2015</td>\n",
       "      <td>2</td>\n",
       "      <td>19</td>\n",
       "      <td>19-02-2015</td>\n",
       "      <td>India</td>\n",
       "      <td>0.012</td>\n",
       "    </tr>\n",
       "    <tr>\n",
       "      <th>4</th>\n",
       "      <td>18311951</td>\n",
       "      <td>InstaFreeze</td>\n",
       "      <td>1</td>\n",
       "      <td>India</td>\n",
       "      <td>New Delhi</td>\n",
       "      <td>B-17, Alaknanda Shopping Complex, Alaknanda, N...</td>\n",
       "      <td>Alaknanda</td>\n",
       "      <td>77.253694</td>\n",
       "      <td>28.525420</td>\n",
       "      <td>Ice Cream</td>\n",
       "      <td>...</td>\n",
       "      <td>2</td>\n",
       "      <td>300</td>\n",
       "      <td>3.6</td>\n",
       "      <td>1.0</td>\n",
       "      <td>2018</td>\n",
       "      <td>6</td>\n",
       "      <td>9</td>\n",
       "      <td>09-06-2018</td>\n",
       "      <td>India</td>\n",
       "      <td>0.012</td>\n",
       "    </tr>\n",
       "  </tbody>\n",
       "</table>\n",
       "<p>5 rows × 26 columns</p>\n",
       "</div>"
      ],
      "text/plain": [
       "   RestaurantID RestaurantName  CountryCode Country        City  \\\n",
       "0      18490967    Lets Burrrp            1   India       Noida   \n",
       "1       3100446             45            1   India   Mangalore   \n",
       "2      18378803    Dilliwaala6            1   India  Puducherry   \n",
       "3      18489842        hashtag            1   India   New Delhi   \n",
       "4      18311951    InstaFreeze            1   India   New Delhi   \n",
       "\n",
       "                                             Address    Locality  Longitude  \\\n",
       "0            Bs-10, Sector 70, Near Sector 70, Noida   Sector 71   0.000000   \n",
       "1  Ground Floor, Trinity Commercial Complex, Near...     Attavar   0.000000   \n",
       "2        6, Rue De La Marine, White Town, Puducherry  White Town  79.834810   \n",
       "3     10921, Mehrauli Bus Stand, Mehrauli, New Delhi    Mehrauli  77.181865   \n",
       "4  B-17, Alaknanda Shopping Complex, Alaknanda, N...   Alaknanda  77.253694   \n",
       "\n",
       "    Latitude               Cuisines  ... Votes Average_Cost_for_two  \\\n",
       "0   0.000000  Chinese, North Indian  ...     0                  400   \n",
       "1   0.000000                   Cafe  ...   209                  600   \n",
       "2  11.936532           North Indian  ...   124                  800   \n",
       "3  28.522205                   Cafe  ...     0                  500   \n",
       "4  28.525420              Ice Cream  ...     2                  300   \n",
       "\n",
       "  In_Dollars Rating Year_Opening  Month_Opening  Day_Opening        Date  \\\n",
       "0        4.8    1.0         2010              3           11  11-03-2010   \n",
       "1        7.2    3.6         2011              7            4  04-07-2011   \n",
       "2        9.6    3.7         2018              8           27  27-08-2018   \n",
       "3        6.0    1.0         2015              2           19  19-02-2015   \n",
       "4        3.6    1.0         2018              6            9  09-06-2018   \n",
       "\n",
       "   Countryname  USD_Rate  \n",
       "0        India     0.012  \n",
       "1        India     0.012  \n",
       "2        India     0.012  \n",
       "3        India     0.012  \n",
       "4        India     0.012  \n",
       "\n",
       "[5 rows x 26 columns]"
      ]
     },
     "execution_count": 8,
     "metadata": {},
     "output_type": "execute_result"
    }
   ],
   "source": [
    "df.head()"
   ]
  },
  {
   "cell_type": "code",
   "execution_count": 9,
   "id": "cd29a848",
   "metadata": {},
   "outputs": [
    {
     "data": {
      "text/plain": [
       "(9542, 26)"
      ]
     },
     "execution_count": 9,
     "metadata": {},
     "output_type": "execute_result"
    }
   ],
   "source": [
    "df.shape"
   ]
  },
  {
   "cell_type": "code",
   "execution_count": 10,
   "id": "fbda059c",
   "metadata": {},
   "outputs": [
    {
     "name": "stdout",
     "output_type": "stream",
     "text": [
      "<class 'pandas.core.frame.DataFrame'>\n",
      "Int64Index: 9542 entries, 0 to 9541\n",
      "Data columns (total 26 columns):\n",
      " #   Column                Non-Null Count  Dtype  \n",
      "---  ------                --------------  -----  \n",
      " 0   RestaurantID          9542 non-null   int64  \n",
      " 1   RestaurantName        9542 non-null   object \n",
      " 2   CountryCode           9542 non-null   int64  \n",
      " 3   Country               9542 non-null   object \n",
      " 4   City                  9542 non-null   object \n",
      " 5   Address               9542 non-null   object \n",
      " 6   Locality              9542 non-null   object \n",
      " 7   Longitude             9542 non-null   float64\n",
      " 8   Latitude              9542 non-null   float64\n",
      " 9   Cuisines              9542 non-null   object \n",
      " 10  Currency              9542 non-null   object \n",
      " 11  Has_Table_booking     9542 non-null   object \n",
      " 12  Has_Online_delivery   9542 non-null   object \n",
      " 13  Is_delivering_now     9542 non-null   object \n",
      " 14  Switch_to_order_menu  9542 non-null   object \n",
      " 15  Price_range           9542 non-null   int64  \n",
      " 16  Votes                 9542 non-null   int64  \n",
      " 17  Average_Cost_for_two  9542 non-null   int64  \n",
      " 18  In_Dollars            9542 non-null   float64\n",
      " 19  Rating                9542 non-null   float64\n",
      " 20  Year_Opening          9542 non-null   int64  \n",
      " 21  Month_Opening         9542 non-null   int64  \n",
      " 22  Day_Opening           9542 non-null   int64  \n",
      " 23  Date                  9542 non-null   object \n",
      " 24  Countryname           9542 non-null   object \n",
      " 25  USD_Rate              9542 non-null   float64\n",
      "dtypes: float64(5), int64(8), object(13)\n",
      "memory usage: 2.0+ MB\n"
     ]
    }
   ],
   "source": [
    "df.info()"
   ]
  },
  {
   "cell_type": "code",
   "execution_count": 11,
   "id": "83bc62b9",
   "metadata": {},
   "outputs": [
    {
     "data": {
      "text/html": [
       "<div>\n",
       "<style scoped>\n",
       "    .dataframe tbody tr th:only-of-type {\n",
       "        vertical-align: middle;\n",
       "    }\n",
       "\n",
       "    .dataframe tbody tr th {\n",
       "        vertical-align: top;\n",
       "    }\n",
       "\n",
       "    .dataframe thead th {\n",
       "        text-align: right;\n",
       "    }\n",
       "</style>\n",
       "<table border=\"1\" class=\"dataframe\">\n",
       "  <thead>\n",
       "    <tr style=\"text-align: right;\">\n",
       "      <th></th>\n",
       "      <th>RestaurantID</th>\n",
       "      <th>CountryCode</th>\n",
       "      <th>Longitude</th>\n",
       "      <th>Latitude</th>\n",
       "      <th>Price_range</th>\n",
       "      <th>Votes</th>\n",
       "      <th>Average_Cost_for_two</th>\n",
       "      <th>In_Dollars</th>\n",
       "      <th>Rating</th>\n",
       "      <th>Year_Opening</th>\n",
       "      <th>Month_Opening</th>\n",
       "      <th>Day_Opening</th>\n",
       "      <th>USD_Rate</th>\n",
       "    </tr>\n",
       "  </thead>\n",
       "  <tbody>\n",
       "    <tr>\n",
       "      <th>count</th>\n",
       "      <td>9.542000e+03</td>\n",
       "      <td>9542.000000</td>\n",
       "      <td>9542.000000</td>\n",
       "      <td>9542.000000</td>\n",
       "      <td>9542.000000</td>\n",
       "      <td>9542.000000</td>\n",
       "      <td>9542.000000</td>\n",
       "      <td>9542.000000</td>\n",
       "      <td>9542.000000</td>\n",
       "      <td>9542.000000</td>\n",
       "      <td>9542.000000</td>\n",
       "      <td>9542.000000</td>\n",
       "      <td>9542.000000</td>\n",
       "    </tr>\n",
       "    <tr>\n",
       "      <th>mean</th>\n",
       "      <td>9.043301e+06</td>\n",
       "      <td>18.179208</td>\n",
       "      <td>64.274997</td>\n",
       "      <td>25.848532</td>\n",
       "      <td>1.804968</td>\n",
       "      <td>156.772060</td>\n",
       "      <td>1200.326137</td>\n",
       "      <td>10.088275</td>\n",
       "      <td>2.890348</td>\n",
       "      <td>2014.003563</td>\n",
       "      <td>6.539824</td>\n",
       "      <td>14.534270</td>\n",
       "      <td>0.077558</td>\n",
       "    </tr>\n",
       "    <tr>\n",
       "      <th>std</th>\n",
       "      <td>8.791967e+06</td>\n",
       "      <td>56.451600</td>\n",
       "      <td>41.197602</td>\n",
       "      <td>11.010094</td>\n",
       "      <td>0.905563</td>\n",
       "      <td>430.203324</td>\n",
       "      <td>16128.743876</td>\n",
       "      <td>16.751377</td>\n",
       "      <td>1.128903</td>\n",
       "      <td>2.606255</td>\n",
       "      <td>3.416858</td>\n",
       "      <td>8.122221</td>\n",
       "      <td>0.242884</td>\n",
       "    </tr>\n",
       "    <tr>\n",
       "      <th>min</th>\n",
       "      <td>5.300000e+01</td>\n",
       "      <td>1.000000</td>\n",
       "      <td>-157.948486</td>\n",
       "      <td>-41.330428</td>\n",
       "      <td>1.000000</td>\n",
       "      <td>0.000000</td>\n",
       "      <td>0.000000</td>\n",
       "      <td>0.000000</td>\n",
       "      <td>1.000000</td>\n",
       "      <td>2010.000000</td>\n",
       "      <td>1.000000</td>\n",
       "      <td>1.000000</td>\n",
       "      <td>0.000067</td>\n",
       "    </tr>\n",
       "    <tr>\n",
       "      <th>25%</th>\n",
       "      <td>3.019312e+05</td>\n",
       "      <td>1.000000</td>\n",
       "      <td>77.081565</td>\n",
       "      <td>28.478658</td>\n",
       "      <td>1.000000</td>\n",
       "      <td>5.000000</td>\n",
       "      <td>250.000000</td>\n",
       "      <td>3.600000</td>\n",
       "      <td>2.500000</td>\n",
       "      <td>2012.000000</td>\n",
       "      <td>4.000000</td>\n",
       "      <td>8.000000</td>\n",
       "      <td>0.012000</td>\n",
       "    </tr>\n",
       "    <tr>\n",
       "      <th>50%</th>\n",
       "      <td>6.002726e+06</td>\n",
       "      <td>1.000000</td>\n",
       "      <td>77.192031</td>\n",
       "      <td>28.570444</td>\n",
       "      <td>2.000000</td>\n",
       "      <td>31.000000</td>\n",
       "      <td>400.000000</td>\n",
       "      <td>6.000000</td>\n",
       "      <td>3.200000</td>\n",
       "      <td>2014.000000</td>\n",
       "      <td>7.000000</td>\n",
       "      <td>14.000000</td>\n",
       "      <td>0.012000</td>\n",
       "    </tr>\n",
       "    <tr>\n",
       "      <th>75%</th>\n",
       "      <td>1.835260e+07</td>\n",
       "      <td>1.000000</td>\n",
       "      <td>77.282043</td>\n",
       "      <td>28.642711</td>\n",
       "      <td>2.000000</td>\n",
       "      <td>130.000000</td>\n",
       "      <td>700.000000</td>\n",
       "      <td>10.000000</td>\n",
       "      <td>3.700000</td>\n",
       "      <td>2016.000000</td>\n",
       "      <td>9.000000</td>\n",
       "      <td>22.000000</td>\n",
       "      <td>0.012000</td>\n",
       "    </tr>\n",
       "    <tr>\n",
       "      <th>max</th>\n",
       "      <td>1.850065e+07</td>\n",
       "      <td>216.000000</td>\n",
       "      <td>174.832089</td>\n",
       "      <td>55.976980</td>\n",
       "      <td>4.000000</td>\n",
       "      <td>10934.000000</td>\n",
       "      <td>800000.000000</td>\n",
       "      <td>500.000000</td>\n",
       "      <td>4.900000</td>\n",
       "      <td>2018.000000</td>\n",
       "      <td>12.000000</td>\n",
       "      <td>28.000000</td>\n",
       "      <td>1.240000</td>\n",
       "    </tr>\n",
       "  </tbody>\n",
       "</table>\n",
       "</div>"
      ],
      "text/plain": [
       "       RestaurantID  CountryCode    Longitude     Latitude  Price_range  \\\n",
       "count  9.542000e+03  9542.000000  9542.000000  9542.000000  9542.000000   \n",
       "mean   9.043301e+06    18.179208    64.274997    25.848532     1.804968   \n",
       "std    8.791967e+06    56.451600    41.197602    11.010094     0.905563   \n",
       "min    5.300000e+01     1.000000  -157.948486   -41.330428     1.000000   \n",
       "25%    3.019312e+05     1.000000    77.081565    28.478658     1.000000   \n",
       "50%    6.002726e+06     1.000000    77.192031    28.570444     2.000000   \n",
       "75%    1.835260e+07     1.000000    77.282043    28.642711     2.000000   \n",
       "max    1.850065e+07   216.000000   174.832089    55.976980     4.000000   \n",
       "\n",
       "              Votes  Average_Cost_for_two   In_Dollars       Rating  \\\n",
       "count   9542.000000           9542.000000  9542.000000  9542.000000   \n",
       "mean     156.772060           1200.326137    10.088275     2.890348   \n",
       "std      430.203324          16128.743876    16.751377     1.128903   \n",
       "min        0.000000              0.000000     0.000000     1.000000   \n",
       "25%        5.000000            250.000000     3.600000     2.500000   \n",
       "50%       31.000000            400.000000     6.000000     3.200000   \n",
       "75%      130.000000            700.000000    10.000000     3.700000   \n",
       "max    10934.000000         800000.000000   500.000000     4.900000   \n",
       "\n",
       "       Year_Opening  Month_Opening  Day_Opening     USD_Rate  \n",
       "count   9542.000000    9542.000000  9542.000000  9542.000000  \n",
       "mean    2014.003563       6.539824    14.534270     0.077558  \n",
       "std        2.606255       3.416858     8.122221     0.242884  \n",
       "min     2010.000000       1.000000     1.000000     0.000067  \n",
       "25%     2012.000000       4.000000     8.000000     0.012000  \n",
       "50%     2014.000000       7.000000    14.000000     0.012000  \n",
       "75%     2016.000000       9.000000    22.000000     0.012000  \n",
       "max     2018.000000      12.000000    28.000000     1.240000  "
      ]
     },
     "execution_count": 11,
     "metadata": {},
     "output_type": "execute_result"
    }
   ],
   "source": [
    "df.describe()"
   ]
  },
  {
   "cell_type": "code",
   "execution_count": 12,
   "id": "75225b2e",
   "metadata": {},
   "outputs": [
    {
     "data": {
      "text/plain": [
       "Index(['RestaurantID', 'RestaurantName', 'CountryCode', 'Country', 'City',\n",
       "       'Address', 'Locality', 'Longitude', 'Latitude', 'Cuisines', 'Currency',\n",
       "       'Has_Table_booking', 'Has_Online_delivery', 'Is_delivering_now',\n",
       "       'Switch_to_order_menu', 'Price_range', 'Votes', 'Average_Cost_for_two',\n",
       "       'In_Dollars', 'Rating', 'Year_Opening', 'Month_Opening', 'Day_Opening',\n",
       "       'Date', 'Countryname', 'USD_Rate'],\n",
       "      dtype='object')"
      ]
     },
     "execution_count": 12,
     "metadata": {},
     "output_type": "execute_result"
    }
   ],
   "source": [
    "df.columns"
   ]
  },
  {
   "cell_type": "markdown",
   "id": "b836fca1",
   "metadata": {},
   "source": [
    "# Total Restaurants"
   ]
  },
  {
   "cell_type": "code",
   "execution_count": 13,
   "id": "0420f69b",
   "metadata": {},
   "outputs": [
    {
     "name": "stdout",
     "output_type": "stream",
     "text": [
      "Total Restaurants = 9542\n"
     ]
    }
   ],
   "source": [
    "tot_rest=df['RestaurantID'].nunique()\n",
    "print(f'Total Restaurants = {tot_rest}')"
   ]
  },
  {
   "cell_type": "markdown",
   "id": "712f8ba4",
   "metadata": {},
   "source": [
    "# Total Cuisines"
   ]
  },
  {
   "cell_type": "code",
   "execution_count": 14,
   "id": "800da915",
   "metadata": {},
   "outputs": [
    {
     "name": "stdout",
     "output_type": "stream",
     "text": [
      "Total Cuisines = 1825\n"
     ]
    }
   ],
   "source": [
    "tot_cuisines=df['Cuisines'].nunique()\n",
    "print(f'Total Cuisines = {tot_cuisines}')"
   ]
  },
  {
   "cell_type": "markdown",
   "id": "32d880ac",
   "metadata": {},
   "source": [
    "# Total Votes"
   ]
  },
  {
   "cell_type": "code",
   "execution_count": 15,
   "id": "2e08481c",
   "metadata": {},
   "outputs": [
    {
     "name": "stdout",
     "output_type": "stream",
     "text": [
      "Total Votes = 1.50M\n"
     ]
    }
   ],
   "source": [
    "tot_votes=df['Votes'].sum()/1000000\n",
    "print(f'Total Votes = {tot_votes:.2f}M')"
   ]
  },
  {
   "cell_type": "markdown",
   "id": "a9dd2de3",
   "metadata": {},
   "source": [
    "# Average Cost for 2 in Dollars"
   ]
  },
  {
   "cell_type": "code",
   "execution_count": 16,
   "id": "7f4ffd39",
   "metadata": {},
   "outputs": [
    {
     "name": "stdout",
     "output_type": "stream",
     "text": [
      "Average Cost for 2 in Dollars = $10.09\n"
     ]
    }
   ],
   "source": [
    "avg_cost=df['In_Dollars'].mean()\n",
    "print(f'Average Cost for 2 in Dollars = ${avg_cost:.2f}')"
   ]
  },
  {
   "cell_type": "markdown",
   "id": "40aa8b7e",
   "metadata": {},
   "source": [
    "# Average Ratings"
   ]
  },
  {
   "cell_type": "code",
   "execution_count": 17,
   "id": "8b9ed0f6",
   "metadata": {},
   "outputs": [
    {
     "name": "stdout",
     "output_type": "stream",
     "text": [
      "Average Ratings = 2.89\n"
     ]
    }
   ],
   "source": [
    "avg_ratings=df['Rating'].mean()\n",
    "print(f'Average Ratings = {avg_ratings:.2f}')"
   ]
  },
  {
   "cell_type": "markdown",
   "id": "75f17761",
   "metadata": {},
   "source": [
    "# Country-wise Count of Restaurants"
   ]
  },
  {
   "cell_type": "code",
   "execution_count": 32,
   "id": "64a99aa2",
   "metadata": {},
   "outputs": [
    {
     "data": {
      "text/plain": [
       "<function matplotlib.pyplot.show(close=None, block=None)>"
      ]
     },
     "execution_count": 32,
     "metadata": {},
     "output_type": "execute_result"
    },
    {
     "data": {
      "image/png": "[encoded data removed]",
      "text/plain": [
       "<Figure size 1500x600 with 1 Axes>"
      ]
     },
     "metadata": {},
     "output_type": "display_data"
    }
   ],
   "source": [
    "rest_count=df.groupby('Country')['RestaurantID'].nunique().reset_index()\n",
    "\n",
    "plt.figure(figsize=(15,6))\n",
    "ax=sns.barplot(x='Country', y='RestaurantID', data=rest_count)\n",
    "\n",
    "plt.title('Country-wise Count of Restaurants')\n",
    "plt.xticks(rotation=45)\n",
    "ax.bar_label(ax.containers[0])\n",
    "\n",
    "plt.tight_layout()\n",
    "plt.show"
   ]
  },
  {
   "cell_type": "code",
   "execution_count": null,
   "id": "96d2825c",
   "metadata": {},
   "outputs": [],
   "source": []
  }
 ],
 "metadata": {
  "kernelspec": {
   "display_name": "Python 3 (ipykernel)",
   "language": "python",
   "name": "python3"
  },
  "language_info": {
   "codemirror_mode": {
    "name": "ipython",
    "version": 3
   },
   "file_extension": ".py",
   "mimetype": "text/x-python",
   "name": "python",
   "nbconvert_exporter": "python",
   "pygments_lexer": "ipython3",
   "version": "3.11.4"
  }
 },
 "nbformat": 4,
 "nbformat_minor": 5
}
